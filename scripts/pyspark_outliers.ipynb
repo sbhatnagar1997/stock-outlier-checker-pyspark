{
 "cells": [
  {
   "cell_type": "markdown",
   "id": "7de0a05d",
   "metadata": {},
   "source": [
    "# Stock price outlier indentification\n",
    "Using pyspark to clean a stock price dataset and remove any outliers"
   ]
  },
  {
   "cell_type": "markdown",
   "id": "e8a88d48",
   "metadata": {},
   "source": [
    "## Imports"
   ]
  },
  {
   "cell_type": "code",
   "execution_count": 6,
   "id": "da730b3b",
   "metadata": {},
   "outputs": [],
   "source": [
    "# import necessary libraries\n",
    "import pandas as pd \n",
    "import numpy\n",
    "import matplotlib.pyplot as plt \n",
    "import os\n",
    "import sys\n",
    "from pyspark.sql import SparkSession\n",
    "\n",
    "# create sparksession\n",
    "spark = SparkSession \\\n",
    "    .builder \\\n",
    "    .appName(\"Pysparkexample\") \\\n",
    "    .getOrCreate()"
   ]
  },
  {
   "cell_type": "markdown",
   "id": "019bec89",
   "metadata": {},
   "source": [
    "## Reading in Outliers.csv i.e. raw, uncleaned data set"
   ]
  },
  {
   "cell_type": "code",
   "execution_count": 57,
   "id": "85888bbb",
   "metadata": {},
   "outputs": [
    {
     "data": {
      "text/plain": [
       "[Row(Date='09/12/2017', Price='229.4'),\n",
       " Row(Date='10/12/2017', Price='229.4'),\n",
       " Row(Date='11/12/2017', Price='230.5'),\n",
       " Row(Date='12/12/2017', Price='400.1'),\n",
       " Row(Date='13/12/2017', Price='230.9'),\n",
       " Row(Date='14/12/2017', Price='229.7'),\n",
       " Row(Date='15/12/2017', Price='230'),\n",
       " Row(Date='16/12/2017', Price='230'),\n",
       " Row(Date='17/12/2017', Price='230'),\n",
       " Row(Date='18/12/2017', Price='231.35')]"
      ]
     },
     "execution_count": 57,
     "metadata": {},
     "output_type": "execute_result"
    }
   ],
   "source": [
    "fpath = os.path.join(sys.path[0], \"..\", \"data\", \"Outliers.csv\")\n",
    "df = spark.read.csv(fpath, header=True)\n",
    "df.head(10)"
   ]
  },
  {
   "cell_type": "markdown",
   "id": "a8416691",
   "metadata": {},
   "source": [
    "## Changing column data types"
   ]
  },
  {
   "cell_type": "code",
   "execution_count": 58,
   "id": "0511a89a",
   "metadata": {},
   "outputs": [
    {
     "data": {
      "text/plain": [
       "[('Date', 'string'), ('Price', 'string')]"
      ]
     },
     "execution_count": 58,
     "metadata": {},
     "output_type": "execute_result"
    }
   ],
   "source": [
    "df.dtypes"
   ]
  },
  {
   "cell_type": "code",
   "execution_count": 62,
   "id": "5ca8f347",
   "metadata": {},
   "outputs": [
    {
     "data": {
      "text/plain": [
       "Row(Date=datetime.date(2017, 12, 9), Price=229.4)"
      ]
     },
     "execution_count": 62,
     "metadata": {},
     "output_type": "execute_result"
    }
   ],
   "source": [
    "from pyspark.sql import functions as f\n",
    "df = df.withColumn('Date', f.to_date(f.col('Date'), 'dd/MM/yyyy'))\n",
    "df = df.withColumn('Price', f.col('Price').cast('double'))\n",
    "df.head()"
   ]
  },
  {
   "cell_type": "markdown",
   "id": "99f6618e",
   "metadata": {},
   "source": [
    "## Plotting to get an initial data idea"
   ]
  },
  {
   "cell_type": "code",
   "execution_count": 82,
   "id": "0643aa64",
   "metadata": {},
   "outputs": [],
   "source": [
    "df = df.sort(\"Date\")"
   ]
  },
  {
   "cell_type": "code",
   "execution_count": 88,
   "id": "435e80ea",
   "metadata": {},
   "outputs": [],
   "source": [
    "df_pandas = df.toPandas()\n",
    "df_pandas[\"Date\"] = pd.to_datetime(df_pandas[\"Date\"])"
   ]
  },
  {
   "cell_type": "code",
   "execution_count": 91,
   "id": "1b5f10ad",
   "metadata": {},
   "outputs": [
    {
     "data": {
      "text/plain": [
       "<AxesSubplot:xlabel='Date'>"
      ]
     },
     "execution_count": 91,
     "metadata": {},
     "output_type": "execute_result"
    },
    {
     "data": {
      "image/png": "[encoded data removed]",
      "text/plain": [
       "<Figure size 432x288 with 1 Axes>"
      ]
     },
     "metadata": {
      "needs_background": "light"
     },
     "output_type": "display_data"
    }
   ],
   "source": [
    "df_pandas.plot(\"Date\", \"Price\")"
   ]
  },
  {
   "cell_type": "markdown",
   "id": "6d079c00",
   "metadata": {},
   "source": [
    "## Algorithm to remove outliers\n",
    "Check percentage difference to previous point. If greater than a set threshold, remove"
   ]
  },
  {
   "cell_type": "code",
   "execution_count": 127,
   "id": "834a7729",
   "metadata": {},
   "outputs": [],
   "source": [
    "from pyspark.sql import Window\n",
    "window_spec = Window.orderBy('Date')\n",
    "df = df.withColumn('prev_price', f.lag('Price').over(window_spec))\n",
    "df = df.withColumn('pcnt_diff', (100*(f.col('Price') - f.col('prev_price'))/(f.col('prev_price'))))"
   ]
  },
  {
   "cell_type": "code",
   "execution_count": 128,
   "id": "4814f034",
   "metadata": {},
   "outputs": [
    {
     "name": "stderr",
     "output_type": "stream",
     "text": [
      "21/10/24 14:04:10 WARN WindowExec: No Partition Defined for Window operation! Moving all data to a single partition, this can cause serious performance degradation.\n",
      "21/10/24 14:04:10 WARN WindowExec: No Partition Defined for Window operation! Moving all data to a single partition, this can cause serious performance degradation.\n",
      "21/10/24 14:04:10 WARN WindowExec: No Partition Defined for Window operation! Moving all data to a single partition, this can cause serious performance degradation.\n"
     ]
    },
    {
     "data": {
      "text/plain": [
       "[Row(Date=datetime.date(2017, 12, 9), Price=229.4, prev_price=None, pcnt_diff=None),\n",
       " Row(Date=datetime.date(2017, 12, 10), Price=229.4, prev_price=229.4, pcnt_diff=0.0),\n",
       " Row(Date=datetime.date(2017, 12, 11), Price=230.5, prev_price=229.4, pcnt_diff=0.479511769834348),\n",
       " Row(Date=datetime.date(2017, 12, 12), Price=400.1, prev_price=230.5, pcnt_diff=73.57917570498917),\n",
       " Row(Date=datetime.date(2017, 12, 13), Price=230.9, prev_price=400.1, pcnt_diff=-42.289427643089226),\n",
       " Row(Date=datetime.date(2017, 12, 14), Price=229.7, prev_price=230.9, pcnt_diff=-0.5197055002165514),\n",
       " Row(Date=datetime.date(2017, 12, 15), Price=230.0, prev_price=229.7, pcnt_diff=0.13060513713539895),\n",
       " Row(Date=datetime.date(2017, 12, 16), Price=230.0, prev_price=230.0, pcnt_diff=0.0),\n",
       " Row(Date=datetime.date(2017, 12, 17), Price=230.0, prev_price=230.0, pcnt_diff=0.0),\n",
       " Row(Date=datetime.date(2017, 12, 18), Price=231.35, prev_price=230.0, pcnt_diff=0.5869565217391279)]"
      ]
     },
     "execution_count": 128,
     "metadata": {},
     "output_type": "execute_result"
    }
   ],
   "source": [
    "df.take(10)"
   ]
  },
  {
   "cell_type": "code",
   "execution_count": null,
   "id": "799590e6",
   "metadata": {},
   "outputs": [],
   "source": []
  }
 ],
 "metadata": {
  "kernelspec": {
   "display_name": "Python 3 (ipykernel)",
   "language": "python",
   "name": "python3"
  },
  "language_info": {
   "codemirror_mode": {
    "name": "ipython",
    "version": 3
   },
   "file_extension": ".py",
   "mimetype": "text/x-python",
   "name": "python",
   "nbconvert_exporter": "python",
   "pygments_lexer": "ipython3",
   "version": "3.9.7"
  }
 },
 "nbformat": 4,
 "nbformat_minor": 5
}
